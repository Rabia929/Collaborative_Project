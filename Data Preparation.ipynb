{
 "cells": [
  {
   "cell_type": "code",
   "execution_count": 2,
   "id": "71d15474-18e9-4543-ad43-9ce62fcbd7a5",
   "metadata": {},
   "outputs": [],
   "source": [
    "import pandas as pd\n",
    "import numpy as np"
   ]
  },
  {
   "cell_type": "code",
   "execution_count": 3,
   "id": "74d442b1-3f39-410c-94c4-0f96a896071e",
   "metadata": {
    "scrolled": true
   },
   "outputs": [],
   "source": [
    "test_data= pd.read_csv(\"C:\\\\Users\\\\amaia\\\\Downloads\\\\ML project\\\\lung_cancer_mortality_data_test_v2.csv\")\n",
    "large_data = pd.read_csv(\"C:\\\\Users\\\\amaia\\\\Downloads\\\\ML project\\\\lung_cancer_mortality_data_large_v2.csv\")"
   ]
  },
  {
   "cell_type": "code",
   "execution_count": 4,
   "id": "453bff77-2b29-4785-9a31-c8703405e2bd",
   "metadata": {},
   "outputs": [],
   "source": [
    "#grouping data for later concatination \n",
    "groups_data =[test_data, large_data]"
   ]
  },
  {
   "cell_type": "code",
   "execution_count": 5,
   "id": "ca31f3c0-e5c4-4054-b607-14fa9475f936",
   "metadata": {},
   "outputs": [],
   "source": [
    "# concatinating the two files\n",
    "grouped_data = pd.concat(groups_data)"
   ]
  },
  {
   "cell_type": "code",
   "execution_count": 40,
   "id": "8719e297-1409-48fb-a048-ecdcd1dda48f",
   "metadata": {},
   "outputs": [
    {
     "data": {
      "text/plain": [
       "162550.0"
      ]
     },
     "execution_count": 40,
     "metadata": {},
     "output_type": "execute_result"
    }
   ],
   "source": [
    "#this is the size we want our final dataset to be 5% of the total merged datasets\n",
    "len(grouped_data)*0.05)"
   ]
  },
  {
   "cell_type": "code",
   "execution_count": 51,
   "id": "94d07781-9864-4a0e-b1f5-db2ea7488a88",
   "metadata": {},
   "outputs": [],
   "source": [
    "#we want this number of survived and this number of deaths included in the dataset\n",
    "sample_size_per_group = (len(grouped_data)*0.05)/2\n",
    "#changing number to int so it can be read properly for the sample method\n",
    "sample_size_per_group = int(sample_size_per_group)"
   ]
  },
  {
   "cell_type": "markdown",
   "id": "c72bf240-2816-43b2-bdf0-2b876af329cf",
   "metadata": {},
   "source": [
    "# split the dataset into two dataframes based on survival"
   ]
  },
  {
   "cell_type": "code",
   "execution_count": 52,
   "id": "b79b6c97-f790-4025-9e71-7f4208233f7a",
   "metadata": {},
   "outputs": [],
   "source": [
    "#dataframe for the survived\n",
    "survived_df = grouped_data[grouped_data[\"survived\"] == 1]\n",
    "survived_df_sample = survived_df.sample(n = sample_size_per_group, random_state = 42)"
   ]
  },
  {
   "cell_type": "code",
   "execution_count": 53,
   "id": "0d39ec2a-8a14-4cdd-ba61-a14e3ceacb00",
   "metadata": {},
   "outputs": [],
   "source": [
    "#dataframe for the non survived\n",
    "not_survived_df = grouped_data[grouped_data[\"survived\"] ==0]\n",
    "survived_df_sample = not_survived_df.sample(n = sample_size_per_group, random_state = 42)"
   ]
  },
  {
   "cell_type": "code",
   "execution_count": 60,
   "id": "0f2e2cc8-7532-4a35-b1c6-79d174264d64",
   "metadata": {},
   "outputs": [],
   "source": [
    "grouped_samples =[survived_df_sample, not_survived_df_sample]"
   ]
  },
  {
   "cell_type": "code",
   "execution_count": 61,
   "id": "7f86e7e2-f154-42c0-82ab-e948c29e7cb1",
   "metadata": {},
   "outputs": [],
   "source": [
    "sample_data = pd.concat(grouped_samples)"
   ]
  },
  {
   "cell_type": "code",
   "execution_count": 58,
   "id": "2daa180a-2e19-478a-a9d5-456bc41ec836",
   "metadata": {},
   "outputs": [],
   "source": [
    "#checking it worked\n",
    "sample_data.info()"
   ]
  },
  {
   "cell_type": "code",
   "execution_count": 62,
   "id": "2f17620b-9c7e-4649-954d-be3d5c0068e6",
   "metadata": {},
   "outputs": [
    {
     "data": {
      "text/plain": [
       "survived\n",
       "1    81275\n",
       "0    81275\n",
       "Name: count, dtype: int64"
      ]
     },
     "execution_count": 62,
     "metadata": {},
     "output_type": "execute_result"
    }
   ],
   "source": [
    "#confirming target is now equal\n",
    "sample_data[\"survived\"].value_counts()"
   ]
  },
  {
   "cell_type": "code",
   "execution_count": 64,
   "id": "aad47f7e-df58-4ce0-b04a-a7134c18ff1d",
   "metadata": {},
   "outputs": [],
   "source": [
    "sample_data.to_csv(\"lung_cancer_mortality_data_for_machine_learning_project.csv\")"
   ]
  },
  {
   "cell_type": "code",
   "execution_count": 65,
   "id": "78aa6bf3-c541-4497-adae-5d5fb802c4be",
   "metadata": {},
   "outputs": [],
   "source": [
    "from scipy.stats import chi2_contingency"
   ]
  },
  {
   "cell_type": "code",
   "execution_count": 66,
   "id": "a4f01a78-ed38-43d0-9c43-372307c782e1",
   "metadata": {},
   "outputs": [],
   "source": [
    "cross_hy = pd.crosstab(sample_data[\"hypertension\"], sample_data[\"survived\"])\n",
    "\n",
    "cross_as = pd.crosstab(sample_data[\"asthma\"], sample_data[\"survived\"])\n",
    "\n",
    "cross_ci = pd.crosstab(sample_data[\"cirrhosis\"], sample_data[\"survived\"])\n",
    "\n",
    "cross_oc = pd.crosstab(sample_data[\"other_cancer\"], sample_data[\"survived\"])"
   ]
  },
  {
   "cell_type": "code",
   "execution_count": 70,
   "id": "d42080e7-ceec-4a35-8293-e30d36f2d722",
   "metadata": {},
   "outputs": [
    {
     "name": "stdout",
     "output_type": "stream",
     "text": [
      "Chi-Square Statistic: 0.004985815287930481\n",
      "P-Value: 0.9437079080304162\n",
      "Degrees of Freedom: 1\n",
      "Expected Frequencies:\n",
      "[[74249.5 74249.5]\n",
      " [ 7025.5  7025.5]]\n"
     ]
    }
   ],
   "source": [
    "chi2, p, dof, expected = chi2_contingency(cross_oc)\n",
    "\n",
    "print(f\"Chi-Square Statistic: {chi2}\")\n",
    "print(f\"P-Value: {p}\")\n",
    "print(f\"Degrees of Freedom: {dof}\")\n",
    "print(\"Expected Frequencies:\")\n",
    "print(expected)"
   ]
  },
  {
   "cell_type": "code",
   "execution_count": null,
   "id": "9799401a-d7f3-4ba4-b76b-5c692c63b111",
   "metadata": {},
   "outputs": [],
   "source": []
  }
 ],
 "metadata": {
  "kernelspec": {
   "display_name": "Python 3 (ipykernel)",
   "language": "python",
   "name": "python3"
  },
  "language_info": {
   "codemirror_mode": {
    "name": "ipython",
    "version": 3
   },
   "file_extension": ".py",
   "mimetype": "text/x-python",
   "name": "python",
   "nbconvert_exporter": "python",
   "pygments_lexer": "ipython3",
   "version": "3.11.7"
  }
 },
 "nbformat": 4,
 "nbformat_minor": 5
}
